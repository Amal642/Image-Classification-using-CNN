{
  "nbformat": 4,
  "nbformat_minor": 0,
  "metadata": {
    "colab": {
      "name": "Image Classifcation using CNN.ipynb",
      "provenance": [],
      "authorship_tag": "ABX9TyNu3m7YzzFJHgn+b/Ylc4d6",
      "include_colab_link": true
    },
    "kernelspec": {
      "name": "python3",
      "display_name": "Python 3"
    },
    "language_info": {
      "name": "python"
    }
  },
  "cells": [
    {
      "cell_type": "markdown",
      "metadata": {
        "id": "view-in-github",
        "colab_type": "text"
      },
      "source": [
        "<a href=\"https://colab.research.google.com/github/Amal642/Image-Classification-using-CNN/blob/main/Image_Classifcation_using_CNN.ipynb\" target=\"_parent\"><img src=\"https://colab.research.google.com/assets/colab-badge.svg\" alt=\"Open In Colab\"/></a>"
      ]
    },
    {
      "cell_type": "code",
      "metadata": {
        "id": "DZKTPVZ1cv3Q"
      },
      "source": [
        "import numpy as np\n",
        "import tensorflow\n",
        "from tensorflow import keras\n",
        "from tensorflow.keras import datasets,layers,models\n",
        "from matplotlib import pyplot as plt\n",
        "import pandas as pd"
      ],
      "execution_count": 2,
      "outputs": []
    },
    {
      "cell_type": "code",
      "metadata": {
        "colab": {
          "base_uri": "https://localhost:8080/"
        },
        "id": "GyVNPF8jdVHT",
        "outputId": "cb7efe67-a6e2-4432-d7e0-3f7a0e282c0e"
      },
      "source": [
        "(x_train,y_train),(x_test,y_test)=datasets.cifar10.load_data()"
      ],
      "execution_count": 3,
      "outputs": [
        {
          "output_type": "stream",
          "text": [
            "Downloading data from https://www.cs.toronto.edu/~kriz/cifar-10-python.tar.gz\n",
            "170500096/170498071 [==============================] - 2s 0us/step\n"
          ],
          "name": "stdout"
        }
      ]
    },
    {
      "cell_type": "code",
      "metadata": {
        "colab": {
          "base_uri": "https://localhost:8080/"
        },
        "id": "bA0mXmJDdhk9",
        "outputId": "fb1ee21d-65e2-45d9-8a77-092693a6bdbe"
      },
      "source": [
        "x_train.shape"
      ],
      "execution_count": 4,
      "outputs": [
        {
          "output_type": "execute_result",
          "data": {
            "text/plain": [
              "(50000, 32, 32, 3)"
            ]
          },
          "metadata": {
            "tags": []
          },
          "execution_count": 4
        }
      ]
    },
    {
      "cell_type": "code",
      "metadata": {
        "colab": {
          "base_uri": "https://localhost:8080/"
        },
        "id": "KzTkh9VXdkM9",
        "outputId": "53640f98-520c-402a-c068-ea98037ba6c8"
      },
      "source": [
        "x_test.shape"
      ],
      "execution_count": 5,
      "outputs": [
        {
          "output_type": "execute_result",
          "data": {
            "text/plain": [
              "(10000, 32, 32, 3)"
            ]
          },
          "metadata": {
            "tags": []
          },
          "execution_count": 5
        }
      ]
    },
    {
      "cell_type": "code",
      "metadata": {
        "colab": {
          "base_uri": "https://localhost:8080/",
          "height": 300
        },
        "id": "nR6eFNEjdlcd",
        "outputId": "d20d5963-13e7-49c0-a1af-9ed68f12b744"
      },
      "source": [
        "plt.imshow(x_train[0])\n",
        "plt.figure(figsize=(15,2))"
      ],
      "execution_count": 6,
      "outputs": [
        {
          "output_type": "execute_result",
          "data": {
            "text/plain": [
              "<Figure size 1080x144 with 0 Axes>"
            ]
          },
          "metadata": {
            "tags": []
          },
          "execution_count": 6
        },
        {
          "output_type": "display_data",
          "data": {
            "image/png": "[encoded data removed]",
            "text/plain": [
              "<Figure size 432x288 with 1 Axes>"
            ]
          },
          "metadata": {
            "tags": [],
            "needs_background": "light"
          }
        },
        {
          "output_type": "display_data",
          "data": {
            "text/plain": [
              "<Figure size 1080x144 with 0 Axes>"
            ]
          },
          "metadata": {
            "tags": []
          }
        }
      ]
    },
    {
      "cell_type": "code",
      "metadata": {
        "id": "NfzAPa59s5AL"
      },
      "source": [
        "y_train = y_train.reshape(-1,)\n",
        "y_train[3]\n",
        "\n",
        "x_train=x_train/255\n",
        "y_train=y_train/255\n"
      ],
      "execution_count": 7,
      "outputs": []
    },
    {
      "cell_type": "code",
      "metadata": {
        "colab": {
          "base_uri": "https://localhost:8080/"
        },
        "id": "xkuZDcCev8tv",
        "outputId": "8c407e01-625b-4a12-cda4-8ff364dc0e16"
      },
      "source": [
        "ann=models.Sequential([\n",
        "                       keras.layers.Flatten(input_shape=(32,32,3)),\n",
        "                       keras.layers.Dense(3000,activation='relu'),\n",
        "                       keras.layers.Dense(1000,activation='relu'),\n",
        "                       keras.layers.Dense(10,activation='sigmoid')\n",
        "])\n",
        "\n",
        "ann.compile(\n",
        "    optimizer='SGD',\n",
        "    loss='sparse_categorical_crossentropy',\n",
        "    metrics=['accuracy']\n",
        ")\n",
        "\n",
        "ann.fit(x_train,y_train,epochs=5)"
      ],
      "execution_count": 8,
      "outputs": [
        {
          "output_type": "stream",
          "text": [
            "Epoch 1/5\n",
            "1563/1563 [==============================] - 8s 3ms/step - loss: 0.0029 - accuracy: 0.0999\n",
            "Epoch 2/5\n",
            "1563/1563 [==============================] - 5s 3ms/step - loss: 3.2026e-04 - accuracy: 0.1000\n",
            "Epoch 3/5\n",
            "1563/1563 [==============================] - 4s 3ms/step - loss: 2.0477e-04 - accuracy: 0.1000\n",
            "Epoch 4/5\n",
            "1563/1563 [==============================] - 5s 3ms/step - loss: 1.5362e-04 - accuracy: 0.1000\n",
            "Epoch 5/5\n",
            "1563/1563 [==============================] - 5s 3ms/step - loss: 1.2408e-04 - accuracy: 0.1000\n"
          ],
          "name": "stdout"
        },
        {
          "output_type": "execute_result",
          "data": {
            "text/plain": [
              "<tensorflow.python.keras.callbacks.History at 0x7f879ee77a50>"
            ]
          },
          "metadata": {
            "tags": []
          },
          "execution_count": 8
        }
      ]
    },
    {
      "cell_type": "code",
      "metadata": {
        "colab": {
          "base_uri": "https://localhost:8080/"
        },
        "id": "v4dXm--a0wuV",
        "outputId": "b8a8a602-37f7-4a57-d214-2cb2e8f503ef"
      },
      "source": [
        "cnn=models.Sequential([\n",
        "                       \n",
        "                       layers.Conv2D(filters=32,kernel_size=(3,3),activation='relu',input_shape=(32,32,3)),\n",
        "                       layers.MaxPooling2D(),\n",
        "                       layers.Conv2D(filters=64,kernel_size=(3,3),activation='relu'),\n",
        "                       layers.MaxPooling2D(),\n",
        "\n",
        "\n",
        "                       layers.Flatten(),\n",
        "                       layers.Dense(64,activation='relu'),\n",
        "                       layers.Dense(10,activation='softmax')\n",
        "])\n",
        "\n",
        "cnn.compile(\n",
        "    optimizer='adam',\n",
        "    loss='sparse_categorical_crossentropy',\n",
        "    metrics=['accuracy']\n",
        ")\n",
        "\n",
        "cnn.fit(x_train,y_train,epochs=10)"
      ],
      "execution_count": 32,
      "outputs": [
        {
          "output_type": "stream",
          "text": [
            "Epoch 1/10\n",
            "1563/1563 [==============================] - 62s 39ms/step - loss: 2.0087 - accuracy: 0.3705\n",
            "Epoch 2/10\n",
            "1563/1563 [==============================] - 61s 39ms/step - loss: 1.3376 - accuracy: 0.5245\n",
            "Epoch 3/10\n",
            "1563/1563 [==============================] - 60s 38ms/step - loss: 1.1721 - accuracy: 0.5904\n",
            "Epoch 4/10\n",
            "1563/1563 [==============================] - 60s 39ms/step - loss: 1.0629 - accuracy: 0.6313\n",
            "Epoch 5/10\n",
            "1563/1563 [==============================] - 60s 38ms/step - loss: 0.9873 - accuracy: 0.6574\n",
            "Epoch 6/10\n",
            "1563/1563 [==============================] - 59s 38ms/step - loss: 0.9221 - accuracy: 0.6791\n",
            "Epoch 7/10\n",
            "1563/1563 [==============================] - 59s 37ms/step - loss: 0.8561 - accuracy: 0.7027\n",
            "Epoch 8/10\n",
            "1563/1563 [==============================] - 58s 37ms/step - loss: 0.8086 - accuracy: 0.7207\n",
            "Epoch 9/10\n",
            "1563/1563 [==============================] - 59s 38ms/step - loss: 0.7541 - accuracy: 0.7396\n",
            "Epoch 10/10\n",
            "1563/1563 [==============================] - 61s 39ms/step - loss: 0.7176 - accuracy: 0.7520\n"
          ],
          "name": "stdout"
        },
        {
          "output_type": "execute_result",
          "data": {
            "text/plain": [
              "<tensorflow.python.keras.callbacks.History at 0x7f31841eea10>"
            ]
          },
          "metadata": {
            "tags": []
          },
          "execution_count": 32
        }
      ]
    },
    {
      "cell_type": "code",
      "metadata": {
        "colab": {
          "base_uri": "https://localhost:8080/"
        },
        "id": "6vfAE4gl5zps",
        "outputId": "ed3875d3-1786-4aab-e3db-8445851dbe1a"
      },
      "source": [
        "cnn.evaluate(x_test,y_test)"
      ],
      "execution_count": 33,
      "outputs": [
        {
          "output_type": "stream",
          "text": [
            "313/313 [==============================] - 4s 12ms/step - loss: 1.1249 - accuracy: 0.6420\n"
          ],
          "name": "stdout"
        },
        {
          "output_type": "execute_result",
          "data": {
            "text/plain": [
              "[1.1248953342437744, 0.6420000195503235]"
            ]
          },
          "metadata": {
            "tags": []
          },
          "execution_count": 33
        }
      ]
    },
    {
      "cell_type": "code",
      "metadata": {
        "colab": {
          "base_uri": "https://localhost:8080/"
        },
        "id": "oIr7dEig6OZ2",
        "outputId": "a3c2409c-7fc2-4228-e586-28f44314f95e"
      },
      "source": [
        "\n",
        "y_test = y_test.reshape(-1,)\n",
        "y_test[:5]"
      ],
      "execution_count": 37,
      "outputs": [
        {
          "output_type": "execute_result",
          "data": {
            "text/plain": [
              "array([3, 8, 8, 0, 6], dtype=uint8)"
            ]
          },
          "metadata": {
            "tags": []
          },
          "execution_count": 37
        }
      ]
    },
    {
      "cell_type": "code",
      "metadata": {
        "id": "YK-JimNd6zcU"
      },
      "source": [
        "classes=['airplane','automobile','bird','cat','deer','dog','frog','horse','ship','truck']\n",
        "\n",
        "def plot_sample(x,y,index):\n",
        "  plt.figure(figsize=(15,2))\n",
        "  plt.imshow(x[index])\n",
        "  plt.xlabel(classes[y[index]])"
      ],
      "execution_count": 42,
      "outputs": []
    },
    {
      "cell_type": "code",
      "metadata": {
        "colab": {
          "base_uri": "https://localhost:8080/",
          "height": 173
        },
        "id": "dA3TqJP46ed8",
        "outputId": "26dec9b4-f51e-4622-a445-c15ebf7cbcff"
      },
      "source": [
        "plot_sample(x_test,y_test,1)"
      ],
      "execution_count": 43,
      "outputs": [
        {
          "output_type": "display_data",
          "data": {
            "image/png": "[encoded data removed]",
            "text/plain": [
              "<Figure size 1080x144 with 1 Axes>"
            ]
          },
          "metadata": {
            "tags": [],
            "needs_background": "light"
          }
        }
      ]
    },
    {
      "cell_type": "code",
      "metadata": {
        "colab": {
          "base_uri": "https://localhost:8080/"
        },
        "id": "qrUa6Wtt7uaI",
        "outputId": "ccd189c2-ae01-4088-c0e4-28a22ab3790a"
      },
      "source": [
        "y_pred=cnn.predict(x_test)\n",
        "y_pred[:5]"
      ],
      "execution_count": 44,
      "outputs": [
        {
          "output_type": "execute_result",
          "data": {
            "text/plain": [
              "array([[4.3527576e-05, 2.8444583e-05, 1.3459984e-03, 8.6752862e-01,\n",
              "        1.3557669e-03, 7.6832883e-02, 5.1663786e-02, 1.7095533e-04,\n",
              "        1.0138080e-03, 1.6264012e-05],\n",
              "       [7.1739785e-02, 4.5728478e-01, 9.7404124e-04, 5.7848729e-04,\n",
              "        5.6732293e-05, 7.3342439e-05, 1.6159615e-04, 3.7360344e-06,\n",
              "        4.6670988e-01, 2.4174841e-03],\n",
              "       [1.4289337e-01, 2.4552710e-01, 3.1892168e-03, 6.8950346e-03,\n",
              "        3.5537692e-04, 1.7580300e-03, 6.5607013e-04, 1.0742103e-04,\n",
              "        5.7560116e-01, 2.3017230e-02],\n",
              "       [5.0865561e-01, 5.5680212e-05, 2.4898729e-04, 1.4968579e-04,\n",
              "        2.1320451e-03, 8.6881064e-06, 1.3079536e-05, 3.6959996e-06,\n",
              "        4.8872879e-01, 3.7488508e-06],\n",
              "       [1.3786709e-04, 6.2188519e-05, 4.4587802e-02, 1.6528943e-01,\n",
              "        1.2590989e-01, 2.6199467e-02, 6.3737214e-01, 3.4527716e-04,\n",
              "        2.1359208e-05, 7.4565680e-05]], dtype=float32)"
            ]
          },
          "metadata": {
            "tags": []
          },
          "execution_count": 44
        }
      ]
    },
    {
      "cell_type": "code",
      "metadata": {
        "colab": {
          "base_uri": "https://localhost:8080/"
        },
        "id": "SXo6bs5I72o7",
        "outputId": "7c044b92-4690-450d-e510-7481f677b1ee"
      },
      "source": [
        "y_classes=[np.argmax(i) for i in y_pred]\n",
        "y_classes[:5]"
      ],
      "execution_count": 45,
      "outputs": [
        {
          "output_type": "execute_result",
          "data": {
            "text/plain": [
              "[3, 8, 8, 0, 6]"
            ]
          },
          "metadata": {
            "tags": []
          },
          "execution_count": 45
        }
      ]
    },
    {
      "cell_type": "code",
      "metadata": {
        "colab": {
          "base_uri": "https://localhost:8080/"
        },
        "id": "tDP6JRKk8IWM",
        "outputId": "e2190051-03dd-46ec-b9bf-589f933dd5f1"
      },
      "source": [
        "y_test[:5]"
      ],
      "execution_count": 46,
      "outputs": [
        {
          "output_type": "execute_result",
          "data": {
            "text/plain": [
              "array([3, 8, 8, 0, 6], dtype=uint8)"
            ]
          },
          "metadata": {
            "tags": []
          },
          "execution_count": 46
        }
      ]
    },
    {
      "cell_type": "code",
      "metadata": {
        "colab": {
          "base_uri": "https://localhost:8080/"
        },
        "id": "5WNx3DYA8v_T",
        "outputId": "458b765e-c331-47c5-f947-21a096802059"
      },
      "source": [
        "from sklearn.metrics import confusion_matrix,classification_report\n",
        "print(\"Classification Report\",classification_report(y_test,y_classes))"
      ],
      "execution_count": 48,
      "outputs": [
        {
          "output_type": "stream",
          "text": [
            "Classification Report               precision    recall  f1-score   support\n",
            "\n",
            "           0       0.68      0.65      0.66      1000\n",
            "           1       0.82      0.80      0.81      1000\n",
            "           2       0.55      0.52      0.53      1000\n",
            "           3       0.40      0.57      0.47      1000\n",
            "           4       0.65      0.48      0.55      1000\n",
            "           5       0.62      0.39      0.48      1000\n",
            "           6       0.65      0.80      0.72      1000\n",
            "           7       0.67      0.69      0.68      1000\n",
            "           8       0.73      0.76      0.74      1000\n",
            "           9       0.74      0.78      0.75      1000\n",
            "\n",
            "    accuracy                           0.64     10000\n",
            "   macro avg       0.65      0.64      0.64     10000\n",
            "weighted avg       0.65      0.64      0.64     10000\n",
            "\n"
          ],
          "name": "stdout"
        }
      ]
    }
  ]
}